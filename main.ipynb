{
 "cells": [
  {
   "cell_type": "code",
   "execution_count": 1,
   "metadata": {},
   "outputs": [
    {
     "name": "stdout",
     "output_type": "stream",
     "text": [
      "pygame 1.9.6\n",
      "Hello from the pygame community. https://www.pygame.org/contribute.html\n"
     ]
    }
   ],
   "source": [
    "# Necessary Library Files\n",
    "\n",
    "import os\n",
    "import threading\n",
    "import time\n",
    "import tkinter.messagebox\n",
    "from tkinter import *\n",
    "from tkinter import filedialog\n",
    "\n",
    "from tkinter import ttk\n",
    "from ttkthemes import themed_tk as tk\n",
    "\n",
    "from mutagen.mp3 import MP3\n",
    "from pygame import mixer"
   ]
  },
  {
   "cell_type": "code",
   "execution_count": 2,
   "metadata": {},
   "outputs": [
    {
     "data": {
      "text/plain": [
       "''"
      ]
     },
     "execution_count": 2,
     "metadata": {},
     "output_type": "execute_result"
    }
   ],
   "source": [
    "# Root Window and Its Properties\n",
    "root = tk.ThemedTk()\n",
    "root.get_themes()                 \n",
    "root.set_theme(\"radiance\")\n",
    "root.geometry('885x550')\n",
    "root.title(\"SpeakerBox\")\n",
    "root.iconbitmap(r'images/speakerbox.ico')"
   ]
  },
  {
   "cell_type": "code",
   "execution_count": 3,
   "metadata": {},
   "outputs": [],
   "source": [
    "# Creating Status Bar\n",
    "\n",
    "statusbar = ttk.Label(root, text=\"Welcome to Speaker Box\", relief=SUNKEN, anchor=W, font='Times 10 italic')\n",
    "statusbar.pack(side=BOTTOM, fill=X)"
   ]
  },
  {
   "cell_type": "code",
   "execution_count": 4,
   "metadata": {},
   "outputs": [],
   "source": [
    "# Functions Related to Menu Bar\n",
    "\n",
    "def browse_file():\n",
    "    global filename_path\n",
    "    filename_path=\"\"\n",
    "    filename_path = filedialog.askopenfilename()\n",
    "    add_to_playlist(filename_path)\n",
    "    mixer.music.queue(filename_path)\n",
    "\n",
    "\n",
    "def add_to_playlist(filename):\n",
    "    filename = os.path.basename(filename)\n",
    "    index = 0\n",
    "    playlistbox.insert(index, filename)\n",
    "    playlist.insert(index, filename_path)\n",
    "    index += 1\n",
    "\n",
    "def about_us():\n",
    "    tkinter.messagebox.showinfo('About SpeakerBox', 'This is a music player build using Python Tkinter by Kishlay Kishore, Tavish Gupta,')"
   ]
  },
  {
   "cell_type": "code",
   "execution_count": 5,
   "metadata": {},
   "outputs": [],
   "source": [
    "# Create the menubar\n",
    "menubar = Menu(root)\n",
    "root.config(menu=menubar)                #Assigns menubar as MENU of the root window\n",
    "\n",
    "# Create the submenu\n",
    "subMenu = Menu(menubar, tearoff=0)\n",
    "menubar.add_cascade(label=\"File\", menu=subMenu)\n",
    "subMenu.add_command(label=\"Open\", command=browse_file)\n",
    "subMenu.add_command(label=\"Exit\", command=root.destroy)\n",
    "\n",
    "subMenu = Menu(menubar, tearoff=0)\n",
    "menubar.add_cascade(label=\"More\", menu=subMenu)\n",
    "subMenu.add_command(label=\"About Us\", command=about_us)\n"
   ]
  },
  {
   "cell_type": "code",
   "execution_count": 6,
   "metadata": {},
   "outputs": [],
   "source": [
    "playlist =[]"
   ]
  },
  {
   "cell_type": "code",
   "execution_count": 7,
   "metadata": {},
   "outputs": [
    {
     "data": {
      "text/plain": [
       "'rightframe = Frame(root,width=300,height=500,borderwidth=5,bg=\"#A8F8B5\")\\nrightframe.pack(side=LEFT,fill=X)'"
      ]
     },
     "execution_count": 7,
     "metadata": {},
     "output_type": "execute_result"
    }
   ],
   "source": [
    "# Creating Frames\n",
    "leftframe = Frame(root,width=300,height=500,borderwidth=5,bg=\"#FBB091\")\n",
    "leftframe.pack(side=LEFT,fill=X)\n",
    "\n",
    "middleframe = Frame(root,width=400,height=500,borderwidth=5,bg=\"#91E1FB\")\n",
    "middleframe.pack(side=LEFT,fill=X)\n",
    "\n",
    "\"\"\"rightframe = Frame(root,width=300,height=500,borderwidth=5,bg=\"#A8F8B5\")\n",
    "rightframe.pack(side=LEFT,fill=X)\"\"\"\n"
   ]
  },
  {
   "cell_type": "code",
   "execution_count": 8,
   "metadata": {},
   "outputs": [],
   "source": [
    "mixer.init()                    #Initialising the Mixer"
   ]
  },
  {
   "cell_type": "code",
   "execution_count": 9,
   "metadata": {},
   "outputs": [],
   "source": [
    "# LEFT FRAME"
   ]
  },
  {
   "cell_type": "code",
   "execution_count": 10,
   "metadata": {},
   "outputs": [],
   "source": [
    "# Functions related to Left Frame\n",
    "\n",
    "def del_song():\n",
    "    selected_song = playlistbox.curselection()\n",
    "    selected_song = int(selected_song[0])\n",
    "    playlistbox.delete(selected_song)\n",
    "    playlist.pop(selected_song)"
   ]
  },
  {
   "cell_type": "code",
   "execution_count": 11,
   "metadata": {},
   "outputs": [],
   "source": [
    "# Elements in Left Frame\n",
    "playlist_label= Label(leftframe,text=\"Curently Playing\",width=45,height=3)\n",
    "playlist_label.pack()\n",
    "\n",
    "playlistbox = Listbox(leftframe,width=45,height=22)\n",
    "playlistbox.pack()\n",
    "\n",
    "addPhoto = PhotoImage(file='images/music.png')\n",
    "addBtn = Button(leftframe, image=addPhoto, command=browse_file,bg=\"#FBB091\")\n",
    "addBtn.pack(side=LEFT,padx=20,pady=3)\n",
    "\n",
    "delPhoto = PhotoImage(file='images/trash.png')\n",
    "delBtn = Button(leftframe, image=delPhoto, command=del_song,bg=\"#FBB091\")\n",
    "delBtn.pack(side=RIGHT,padx=20,pady=3)"
   ]
  },
  {
   "cell_type": "code",
   "execution_count": 12,
   "metadata": {},
   "outputs": [],
   "source": [
    "# MIDDLE FRAME"
   ]
  },
  {
   "cell_type": "code",
   "execution_count": 13,
   "metadata": {},
   "outputs": [],
   "source": [
    "# Functions related to Middle Frame\n",
    "def show_details(play_song):\n",
    "    file_data = os.path.splitext(play_song)\n",
    "\n",
    "    if file_data[1] == '.mp3':\n",
    "        audio = MP3(play_song)\n",
    "        total_length = audio.info.length\n",
    "    else:\n",
    "        a = mixer.Sound(play_song)\n",
    "        total_length = a.get_length()\n",
    "\n",
    "    # div - total_length/60, mod - total_length % 60\n",
    "    mins, secs = divmod(total_length, 60)\n",
    "    mins = round(mins)\n",
    "    secs = round(secs)\n",
    "    timeformat = '{:02d}:{:02d}'.format(mins, secs)\n",
    "    lengthlabel['text'] = \"Total Length\" + ' - ' + timeformat\n",
    "\n",
    "    t1 = threading.Thread(target=start_count, args=(total_length,))\n",
    "    t1.start()\n",
    "\n",
    "\n",
    "def start_count(t):\n",
    "    global paused\n",
    "    # mixer.music.get_busy(): - Returns FALSE when we press the stop button (music stop playing)\n",
    "    # Continue - Ignores all of the statements below it. We check if music is paused or not.\n",
    "    current_time = 0\n",
    "    while current_time <= t and mixer.music.get_busy():\n",
    "        if paused:\n",
    "            continue\n",
    "        else:\n",
    "            mins, secs = divmod(current_time, 60)\n",
    "            mins = round(mins)\n",
    "            secs = round(secs)\n",
    "            timeformat = '{:02d}:{:02d}'.format(mins, secs)\n",
    "            currenttimelabel['text'] = \"Current Time\" + ' - ' + timeformat\n",
    "            time.sleep(1)\n",
    "            current_time += 1\n",
    "        \n",
    "            \n",
    "\n",
    "\n",
    "def play_music():\n",
    "    global paused\n",
    "\n",
    "    if paused:\n",
    "        mixer.music.unpause()\n",
    "        statusbar['text'] = \"Music Resumed\"\n",
    "        paused = FALSE\n",
    "    else:\n",
    "        try:\n",
    "            stop_music()\n",
    "            time.sleep(1)\n",
    "            selected_song = playlistbox.curselection()\n",
    "            selected_song = int(selected_song[0])\n",
    "            play_it = playlist[selected_song]\n",
    "            mixer.music.load(play_it)\n",
    "            mixer.music.play()\n",
    "            statusbar['text'] = \"Playing music\" + ' - ' + os.path.basename(play_it)\n",
    "            nameLabel.configure(text=os.path.basename(play_it))\n",
    "            show_details(play_it)\n",
    "            \n",
    "        except:\n",
    "            #tkinter.messagebox.showerror('File not found', 'Melody could not find the file. Please check again.')\n",
    "            print(\"not found file\")\n",
    "\n",
    "\n",
    "def stop_music():\n",
    "    mixer.music.stop()\n",
    "    statusbar['text'] = \"Music Stopped\"\n",
    "\n",
    "\n",
    "paused = FALSE\n",
    "\n",
    "\n",
    "def pause_music():\n",
    "    global paused\n",
    "    paused = TRUE\n",
    "    mixer.music.pause()\n",
    "    statusbar['text'] = \"Music Paused\"\n",
    "\n",
    "\n",
    "def rewind_music():\n",
    "    play_music()\n",
    "    statusbar['text'] = \"Music Rewinded\"\n",
    "\n",
    "\n",
    "def set_vol(val):\n",
    "    volume = float(val) / 100\n",
    "    mixer.music.set_volume(volume)\n",
    "    # set_volume of mixer takes value only from 0 to 1. Example - 0, 0.1,0.55,0.54.0.99,1\n",
    "\n",
    "\n",
    "muted = FALSE\n",
    "\n",
    "\n",
    "def mute_music():\n",
    "    global muted\n",
    "    if muted:  # Unmute the music\n",
    "        mixer.music.set_volume(0.7)\n",
    "        volumeBtn.configure(image=volumePhoto)\n",
    "        scale.set(70)\n",
    "        muted = FALSE\n",
    "    else:  # mute the music\n",
    "        mixer.music.set_volume(0)\n",
    "        volumeBtn.configure(image=mutePhoto)\n",
    "        scale.set(0)\n",
    "        muted = TRUE"
   ]
  },
  {
   "cell_type": "code",
   "execution_count": 14,
   "metadata": {},
   "outputs": [],
   "source": [
    "# Elements in Middle Frame \n",
    "wavePhoto = PhotoImage(file='images/sound-waves.png')\n",
    "display=Button(middleframe,image=wavePhoto,width=200,height=200)\n",
    "display.pack(side=TOP)\n",
    "\n",
    "song_name= \"No SONG PLAYING\"\n",
    "nameLabel = ttk.Label(middleframe,text=song_name,width=45,relief=GROOVE)\n",
    "nameLabel.pack()\n",
    "\n",
    "middleframe_middle = Frame(middleframe,bg=\"#91E1FB\")\n",
    "middleframe_middle.pack(pady=30)\n",
    "\n",
    "currenttimelabel = ttk.Label(middleframe_middle, text='Current Time : --:--', relief=GROOVE)\n",
    "currenttimelabel.grid(row=0, column=0, padx=10)\n",
    "\n",
    "lengthlabel = ttk.Label(middleframe_middle, text='Total Length : --:--')\n",
    "lengthlabel.grid(row=0, column=2, padx=10)\n",
    "\n",
    "playPhoto = PhotoImage(file='images/play.png')\n",
    "playBtn = ttk.Button(middleframe_middle, image=playPhoto, command=play_music)\n",
    "playBtn.grid(row=1,column=0, padx=10,pady =5)\n",
    "\n",
    "pausePhoto = PhotoImage(file='images/pause.png')\n",
    "pauseBtn = ttk.Button(middleframe_middle, image=pausePhoto, command=pause_music)\n",
    "pauseBtn.grid(row=1,column=1, padx=10,pady=5)\n",
    "\n",
    "stopPhoto = PhotoImage(file='images/stop.png')\n",
    "stopBtn = ttk.Button(middleframe_middle, image=stopPhoto, command=stop_music)\n",
    "stopBtn.grid(row=1, column=2, padx=10)\n",
    "\n",
    "\n",
    "bottomframe_middle = Frame(middleframe)\n",
    "bottomframe_middle.pack(pady=5)\n",
    "\n",
    "mutePhoto = PhotoImage(file='images/mute.png')\n",
    "volumePhoto = PhotoImage(file='images/volume.png')\n",
    "volumeBtn = ttk.Button(bottomframe_middle, image=volumePhoto, command=mute_music)\n",
    "volumeBtn.grid(row=0, column=0)\n",
    "\n",
    "scale = ttk.Scale(bottomframe_middle, from_=0, to=100, orient=HORIZONTAL, command=set_vol,length=200)\n",
    "scale.set(70)  # implement the default value of scale when music player starts\n",
    "mixer.music.set_volume(0.7)\n",
    "scale.grid(row=0, column=1, pady=15, padx=30)"
   ]
  },
  {
   "cell_type": "code",
   "execution_count": 15,
   "metadata": {},
   "outputs": [],
   "source": [
    "# RIGHT FRAME"
   ]
  },
  {
   "cell_type": "code",
   "execution_count": 16,
   "metadata": {},
   "outputs": [],
   "source": [
    "# Functions in Right Frame\n",
    "\n",
    "def search():\n",
    "    print(\"search\")\n",
    "    \n",
    "def play_ml():\n",
    "    print(\"play\")\n",
    "    s1_val=s1_scale.get()\n",
    "    s2_val=s2_scale.get()\n",
    "    s3_val=s3_scale.get()\n",
    "    print(s1_val,s2_val,s3_val)\n",
    "    "
   ]
  },
  {
   "cell_type": "code",
   "execution_count": 17,
   "metadata": {},
   "outputs": [
    {
     "data": {
      "text/plain": [
       "'# Elements in Right Frame\\ntopframe_right= Frame(rightframe)\\ntopframe_right.pack(pady=5)\\n\\nsearch_text=Entry(topframe_right,bg=\"pink\",fg=\"#161BEE\",font=(\"Comic Sans MS\",15),width=20)\\nsearch_text.pack(side=LEFT)\\n\\nsearch_btn=Button(topframe_right,text=\"Search\",relief=GROOVE,command=search,bg=\"pink\")\\nsearch_btn.pack()\\n\\n\\nmidframe_right= Frame(rightframe,height=50)\\nmidframe_right.pack()\\nsearchlistbox = Listbox(midframe_right,width=45,height=10)\\nsearchlistbox.pack()\\n\\nlabel_ml= Label(midframe_right,text=\"Play My Mood\",width=20,bg=\"#52C80D\",borderwidth=4)\\nlabel_ml.pack()\\n\\nbottomframe_right= Frame(rightframe,height=50)\\nbottomframe_right.pack(pady=5)\\n\\ns1_scale= Scale(bottomframe_right,from_=10, to=-10)\\ns1_scale.grid(row=0,column=0,padx=30,pady=5)\\n\\n\\ns2_scale= Scale(bottomframe_right,from_=10, to=-10)\\ns2_scale.grid(row=0,column=1,padx=30,pady=5)\\n\\n\\ns3_scale= Scale(bottomframe_right,from_=10, to=-10)\\ns3_scale.grid(row=0,column=2,padx=30,pady=5)\\n\\n\\nlabel1= Label(bottomframe_right,text=\"Mood\")\\nlabel1.grid(row=1,column=0,padx=30,pady=5)\\n\\nlabel2= Label(bottomframe_right,text=\"Energy\")\\nlabel2.grid(row=1,column=1,padx=30,pady=5)\\n\\nlabel3= Label(bottomframe_right,text=\"Tune\")\\nlabel3.grid(row=1,column=2,padx=30,pady=5)\\n\\nml_playPhoto = PhotoImage(file=\\'images/play-button.png\\')\\nml_playBtn = ttk.Button(bottomframe_right, image=ml_playPhoto, command=play_ml)\\nml_playBtn.grid(row=2,column=1, padx=10,pady =5)'"
      ]
     },
     "execution_count": 17,
     "metadata": {},
     "output_type": "execute_result"
    }
   ],
   "source": [
    "\"\"\"# Elements in Right Frame\n",
    "topframe_right= Frame(rightframe)\n",
    "topframe_right.pack(pady=5)\n",
    "\n",
    "search_text=Entry(topframe_right,bg=\"pink\",fg=\"#161BEE\",font=(\"Comic Sans MS\",15),width=20)\n",
    "search_text.pack(side=LEFT)\n",
    "\n",
    "search_btn=Button(topframe_right,text=\"Search\",relief=GROOVE,command=search,bg=\"pink\")\n",
    "search_btn.pack()\n",
    "\n",
    "\n",
    "midframe_right= Frame(rightframe,height=50)\n",
    "midframe_right.pack()\n",
    "searchlistbox = Listbox(midframe_right,width=45,height=10)\n",
    "searchlistbox.pack()\n",
    "\n",
    "label_ml= Label(midframe_right,text=\"Play My Mood\",width=20,bg=\"#52C80D\",borderwidth=4)\n",
    "label_ml.pack()\n",
    "\n",
    "bottomframe_right= Frame(rightframe,height=50)\n",
    "bottomframe_right.pack(pady=5)\n",
    "\n",
    "s1_scale= Scale(bottomframe_right,from_=10, to=-10)\n",
    "s1_scale.grid(row=0,column=0,padx=30,pady=5)\n",
    "\n",
    "\n",
    "s2_scale= Scale(bottomframe_right,from_=10, to=-10)\n",
    "s2_scale.grid(row=0,column=1,padx=30,pady=5)\n",
    "\n",
    "\n",
    "s3_scale= Scale(bottomframe_right,from_=10, to=-10)\n",
    "s3_scale.grid(row=0,column=2,padx=30,pady=5)\n",
    "\n",
    "\n",
    "label1= Label(bottomframe_right,text=\"Mood\")\n",
    "label1.grid(row=1,column=0,padx=30,pady=5)\n",
    "\n",
    "label2= Label(bottomframe_right,text=\"Energy\")\n",
    "label2.grid(row=1,column=1,padx=30,pady=5)\n",
    "\n",
    "label3= Label(bottomframe_right,text=\"Tune\")\n",
    "label3.grid(row=1,column=2,padx=30,pady=5)\n",
    "\n",
    "ml_playPhoto = PhotoImage(file='images/play-button.png')\n",
    "ml_playBtn = ttk.Button(bottomframe_right, image=ml_playPhoto, command=play_ml)\n",
    "ml_playBtn.grid(row=2,column=1, padx=10,pady =5)\"\"\""
   ]
  },
  {
   "cell_type": "code",
   "execution_count": 18,
   "metadata": {},
   "outputs": [],
   "source": [
    "def on_closing():\n",
    "    stop_music()\n",
    "    root.destroy()\n",
    "\n",
    "root.protocol(\"WM_DELETE_WINDOW\", on_closing)\n",
    "root.mainloop()"
   ]
  },
  {
   "cell_type": "code",
   "execution_count": null,
   "metadata": {},
   "outputs": [],
   "source": []
  }
 ],
 "metadata": {
  "kernelspec": {
   "display_name": "Python 3",
   "language": "python",
   "name": "python3"
  },
  "language_info": {
   "codemirror_mode": {
    "name": "ipython",
    "version": 3
   },
   "file_extension": ".py",
   "mimetype": "text/x-python",
   "name": "python",
   "nbconvert_exporter": "python",
   "pygments_lexer": "ipython3",
   "version": "3.7.3"
  }
 },
 "nbformat": 4,
 "nbformat_minor": 2
}
